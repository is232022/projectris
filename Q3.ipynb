{
 "cells": [
  {
   "cell_type": "markdown",
   "id": "e1479985-716e-4cae-b6b1-29d9c2774ee8",
   "metadata": {},
   "source": [
    "## 3)"
   ]
  },
  {
   "cell_type": "code",
   "execution_count": 1,
   "id": "3e3f0214-a9f9-428f-b44e-118c0dc96594",
   "metadata": {},
   "outputs": [],
   "source": [
    "import numpy as np\n",
    "from scipy import stats\n",
    "from scipy.stats import beta\n",
    "from types import SimpleNamespace"
   ]
  },
  {
   "cell_type": "code",
   "execution_count": 2,
   "id": "def840e2-e19d-4877-b756-f88dd1faa517",
   "metadata": {},
   "outputs": [],
   "source": [
    "N = 10000\n",
    "a = 0\n",
    "b = 1\n",
    "\n",
    "par1 = SimpleNamespace()\n",
    "par1.alpha = 2\n",
    "par1.beta = 7\n",
    "par1.theta = -2\n",
    "par1.y = 1\n",
    "par1.p = 0.2\n",
    "par1.gamma1, par1.pi1 = 0.9, 0.2\n",
    "par1.gamma2, par1.pi2 = 0.45, 0.1"
   ]
  },
  {
   "cell_type": "code",
   "execution_count": 3,
   "id": "8995011d-dbeb-47bd-beb2-6abb7836de5c",
   "metadata": {},
   "outputs": [],
   "source": [
    "def utility(z,par1):\n",
    "    print(par1)\n",
    "    return z**(1+par1.theta)/(1+par1.theta)"
   ]
  },
  {
   "cell_type": "code",
   "execution_count": 4,
   "id": "1678ec01-d0a2-46d2-963f-173da5e979bf",
   "metadata": {},
   "outputs": [],
   "source": [
    "#rand_x = np.random.beta(par1.alpha, par1.beta,N)\n",
    "#f = stats.beta(a,b).pdf(rand_x)\n",
    "\n",
    "#def func(x): \n",
    "#    f = stats.beta(a,b).pdf(x)\n",
    "#    return "
   ]
  },
  {
   "cell_type": "code",
   "execution_count": 20,
   "id": "8ae006a2-ee56-46de-b088-bb28ae4c01dc",
   "metadata": {},
   "outputs": [
    {
     "name": "stdout",
     "output_type": "stream",
     "text": [
      "namespace(alpha=2, beta=7, theta=-2, y=1, p=0.2, gamma1=0.9, pi1=0.2, gamma2=0.45, pi2=0.1)\n",
      "namespace(alpha=2, beta=7, theta=-2, y=1, p=0.2, gamma1=0.9, pi1=0.2, gamma2=0.45, pi2=0.1)\n",
      "namespace(alpha=2, beta=7, theta=-2, y=1, p=0.2, gamma1=0.9, pi1=0.2, gamma2=0.45, pi2=0.1)\n",
      "namespace(alpha=2, beta=7, theta=-2, y=1, p=0.2, gamma1=0.9, pi1=0.2, gamma2=0.45, pi2=0.1)\n",
      "namespace(alpha=2, beta=7, theta=-2, y=1, p=0.2, gamma1=0.9, pi1=0.2, gamma2=0.45, pi2=0.1)\n",
      "namespace(alpha=2, beta=7, theta=-2, y=1, p=0.2, gamma1=0.9, pi1=0.2, gamma2=0.45, pi2=0.1)\n"
     ]
    }
   ],
   "source": [
    "def MC(gamma,pi,par1): \n",
    "    \"\"\"Monte carlo integration \"\"\"\n",
    "    \n",
    "    #Creating a beta distribution\n",
    "    #X = np.random.beta(par1.alpha, par1.beta,size = N) #in doubt about the limits of the integral from 0 to 1 should be included\n",
    "    X = np.linspace(beta.ppf(a, par1.alpha, par1.beta),beta.ppf(b, par1.alpha, par1.beta), 100) #Here is limits from 0-1 included as well as\n",
    "    \n",
    "    integral = utility(par1.y-(1-gamma)*X-pi,par1)*X\n",
    "    integral[gamma > 0.5, pi > 0.1] = utility(par1.y-(1-par1.gamma1)*X-par1.pi1,par1)*X\n",
    "    integral[gamma < 0.5, pi < 0.2] = utility(par1.y-(1-par1.gamma2)*X-par1.pi2,par1)*X\n",
    "    \n",
    "    return np.mean(integral)\n",
    "\n",
    "mc_integral1 = MC(par1.gamma1,par1.pi1,par1)\n",
    "mc_integral2 = MC(par1.gamma2,par1.pi2,par1)"
   ]
  },
  {
   "cell_type": "code",
   "execution_count": 21,
   "id": "a14637c6-09c2-4733-9eff-8640ecdf3182",
   "metadata": {},
   "outputs": [
    {
     "name": "stdout",
     "output_type": "stream",
     "text": [
      "Monte Carlo solution for policy 1 : -0.683\n",
      "Monte Carlo solution for policy 2 : -0.996\n"
     ]
    }
   ],
   "source": [
    "print(f\"Monte Carlo solution for policy 1 : {mc_integral1:.3f}\")\n",
    "print(f\"Monte Carlo solution for policy 2 : {mc_integral2:.3f}\")"
   ]
  },
  {
   "cell_type": "markdown",
   "id": "07389c23-f1b0-4144-b02f-8abe01b2834d",
   "metadata": {},
   "source": [
    "The preferable policy is 1 because the agents value is higher"
   ]
  },
  {
   "cell_type": "code",
   "execution_count": null,
   "id": "e26760fb-9255-467c-9af0-1c87c4f49b3c",
   "metadata": {},
   "outputs": [],
   "source": [
    "#https://github.com/NumEconCopenhagen/lectures-2022/blob/main/04/Random_numbers_and_simulation.ipynb"
   ]
  }
 ],
 "metadata": {
  "kernelspec": {
   "display_name": "Python 3 (ipykernel)",
   "language": "python",
   "name": "python3"
  },
  "language_info": {
   "codemirror_mode": {
    "name": "ipython",
    "version": 3
   },
   "file_extension": ".py",
   "mimetype": "text/x-python",
   "name": "python",
   "nbconvert_exporter": "python",
   "pygments_lexer": "ipython3",
   "version": "3.9.7"
  }
 },
 "nbformat": 4,
 "nbformat_minor": 5
}
