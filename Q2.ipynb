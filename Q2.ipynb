{
 "cells": [
  {
   "cell_type": "code",
   "execution_count": 1,
   "id": "184c0f1c-df01-4c39-adac-0af2d65e2d6b",
   "metadata": {},
   "outputs": [],
   "source": [
    "from scipy.optimize import fsolve\n",
    "from scipy.optimize import minimize\n",
    "from scipy.optimize import root\n",
    "import numpy as np \n",
    "import math\n",
    "from scipy.optimize import minimize\n",
    "from scipy import optimize\n",
    "\n",
    "from types import SimpleNamespace # new? explained below\n",
    "from scipy import optimize\n",
    "import matplotlib.pyplot as plt\n",
    "plt.style.use('seaborn-whitegrid')"
   ]
  },
  {
   "cell_type": "code",
   "execution_count": 2,
   "id": "b33a9ca6-cc3f-4dab-bdcb-b6d63ff6a104",
   "metadata": {},
   "outputs": [],
   "source": [
    "x = 0.6\n",
    "q = np.linspace(0.01,0.6)\n",
    "\n",
    "par = SimpleNamespace()\n",
    "par.theta = -2\n",
    "par.p = 0.2\n",
    "par.y = 1\n",
    "pi = par.p*q"
   ]
  },
  {
   "cell_type": "code",
   "execution_count": 3,
   "id": "48277d96-d063-450f-8ea3-e0d92dcc66e9",
   "metadata": {},
   "outputs": [],
   "source": [
    "#Utility function\n",
    "def u(z,par):\n",
    "    print(par)\n",
    "    \"\"\"Utility of assets\"\"\"\n",
    "    return z**(1+par.theta)/(1+par.theta)"
   ]
  },
  {
   "cell_type": "code",
   "execution_count": 4,
   "id": "993c7dd1-c327-4893-912d-d917dfcd9003",
   "metadata": {},
   "outputs": [],
   "source": [
    "#Premium policy\n",
    "#def pi(q,par): \n",
    "#    print(par)\n",
    "#    \"\"\"Premium for better coverage\"\"\"\n",
    "#    return par.p*q"
   ]
  },
  {
   "cell_type": "code",
   "execution_count": 5,
   "id": "d195c820-93cb-4615-8aaa-6c2cb14139d4",
   "metadata": {},
   "outputs": [],
   "source": [
    "#Expected utility if not insured\n",
    "def V0(x,par): \n",
    "    print(par)\n",
    "    \"\"\"Expected utility of a non-insured agent\"\"\"\n",
    "    return par.p*u(par.y-x,par) + (1-par.p)*u(par.y,par)"
   ]
  },
  {
   "cell_type": "code",
   "execution_count": 6,
   "id": "2ffc6c26-0ae4-463a-b3eb-48b632d7b878",
   "metadata": {},
   "outputs": [],
   "source": [
    "#pi = par.p*q\n",
    "\n",
    "#Expected utility function if insured\n",
    "def value_func(q,pi,par): \n",
    "    #print(par)\n",
    "    \"\"\"Expected utility of an insured agent\"\"\"\n",
    "    u_loss = u(par.y-x+q-pi,par)\n",
    "    u_win = u(par.y-pi,par)\n",
    "    return par.p*u_loss+(1-par.p)*u_win"
   ]
  },
  {
   "cell_type": "markdown",
   "id": "ad45252c-cf3b-4c1c-a6ea-86afc021a864",
   "metadata": {},
   "source": [
    "### ii) "
   ]
  },
  {
   "cell_type": "code",
   "execution_count": 26,
   "id": "7a160fe8-f3d6-4a76-8fea-1e26074da761",
   "metadata": {},
   "outputs": [
    {
     "name": "stdout",
     "output_type": "stream",
     "text": [
      "namespace(theta=-2, p=0.2, y=1)\n",
      "namespace(theta=-2, p=0.2, y=1)\n",
      "namespace(theta=-2, p=0.2, y=1)\n",
      "namespace(theta=-2, p=0.2, y=1)\n",
      "namespace(theta=-2, p=0.2, y=1)\n",
      "[ True False False False False False False False False False False False\n",
      " False False False False False False False False False False False False\n",
      " False False False False False False False False False False False False\n",
      " False False False False False False False False False False False False\n",
      " False False]\n"
     ]
    }
   ],
   "source": [
    "def diff(q,pi,par): \n",
    "    return value_func(q,pi,par)-V0(x,par)==0 #should you say equal to zero\n",
    "\n",
    "print(diff(q,pi,par))"
   ]
  },
  {
   "cell_type": "code",
   "execution_count": 19,
   "id": "d79ded01-1ecd-4510-b5c6-cdbea296e72c",
   "metadata": {},
   "outputs": [],
   "source": [
    "obj = lambda pi: diff(q,pi,par)\n",
    "res2 = optimize.root(obj,bounds=(0,1),method='bounded')\n",
    "\n"
   ]
  },
  {
   "cell_type": "markdown",
   "id": "d640a5d2-4262-48d1-af0a-785a0183d248",
   "metadata": {},
   "source": [
    "constructing the q grid"
   ]
  },
  {
   "cell_type": "code",
   "execution_count": null,
   "id": "8b7c74f7-941d-4991-ab54-1566be9306c6",
   "metadata": {},
   "outputs": [],
   "source": [
    "q = np.linspace(0.01,0.6)"
   ]
  },
  {
   "cell_type": "markdown",
   "id": "f4a8dc1f-b0cd-446c-b0af-e644cf09d8ee",
   "metadata": {},
   "source": [
    "Then looping over each element in the grid of q's - 0.01-0.6"
   ]
  },
  {
   "cell_type": "code",
   "execution_count": null,
   "id": "f842865d-150a-41e4-a5d3-874eb853c774",
   "metadata": {},
   "outputs": [],
   "source": [
    "# 2. Calculate every q* for all x's by looping\n",
    "for i, (q_values, x_values) in enumerate(zip(q_values, x_values)):\n",
    "    # i. Calculate insurance coverage for every loss\n",
    "    premium = qstar(q_values, x_values, par)\n",
    "    \n",
    "    # ii. Append premium to empty vector\n",
    "    monetary_loss[i] = insurance_coverage\n",
    "    \n",
    "    # iii. Print result\n",
    "    print(f'qstar({np.round(q_values,2)}, {np.round(x_values,2)}, par) = {np.round(monetary_loss[i],2)}, where par = {par}')"
   ]
  },
  {
   "cell_type": "code",
   "execution_count": null,
   "id": "65aa588c-bbba-4289-a58c-8dabbd86606e",
   "metadata": {},
   "outputs": [],
   "source": [
    "def qstar(q, x, par): \n",
    "    obj = lambda x: -V(q, x, par)\n",
    "    result = optimize.minimize_scalar(obj,bounds=(0,1),method='bounded')\n",
    "    q = result.x\n",
    "    return q"
   ]
  },
  {
   "cell_type": "code",
   "execution_count": 9,
   "id": "8ad7df12-b408-4937-a596-25677449d6ff",
   "metadata": {},
   "outputs": [],
   "source": [
    "#res = optimize.root(obj,x0=0.0,method='lm')"
   ]
  }
 ],
 "metadata": {
  "kernelspec": {
   "display_name": "Python 3 (ipykernel)",
   "language": "python",
   "name": "python3"
  },
  "language_info": {
   "codemirror_mode": {
    "name": "ipython",
    "version": 3
   },
   "file_extension": ".py",
   "mimetype": "text/x-python",
   "name": "python",
   "nbconvert_exporter": "python",
   "pygments_lexer": "ipython3",
   "version": "3.9.7"
  }
 },
 "nbformat": 4,
 "nbformat_minor": 5
}
