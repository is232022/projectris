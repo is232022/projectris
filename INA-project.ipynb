{
 "cells": [
  {
   "cell_type": "raw",
   "id": "bc54ceb7-1fe4-447f-ada5-2a4f7d04a46d",
   "metadata": {},
   "source": [
    "Inagural Project"
   ]
  },
  {
   "cell_type": "code",
   "execution_count": 23,
   "id": "4ca4f488-bcb7-4b56-9bfb-29b57e45d212",
   "metadata": {},
   "outputs": [],
   "source": [
    "from scipy.optimize import minimize\n",
    "import numpy as np \n",
    "import math"
   ]
  },
  {
   "cell_type": "markdown",
   "id": "67c17705-eeab-49ea-95d4-a9af84223ad7",
   "metadata": {},
   "source": [
    "# Question 1"
   ]
  },
  {
   "cell_type": "markdown",
   "id": "ea059235-988a-472f-a8a0-dea9adcc50ff",
   "metadata": {},
   "source": [
    "Construct function: (x, y, p) --> optimal insurance for the agents\n",
    "calculate and plot q* for x "
   ]
  },
  {
   "cell_type": "raw",
   "id": "ddcb431d-0a45-4139-aa9e-c782b037f4ed",
   "metadata": {},
   "source": [
    "-Using the utility function for an insured agent"
   ]
  },
  {
   "cell_type": "code",
   "execution_count": 3,
   "id": "5a2b1c08-c28e-42a4-b332-875bcb2a6b88",
   "metadata": {},
   "outputs": [],
   "source": [
    "theta = -2\n",
    "y = 1\n",
    "p = 0.2\n",
    "#x = range(1, 500) #confused if it should be q\n",
    "#x = range(0, math.inf )"
   ]
  },
  {
   "cell_type": "code",
   "execution_count": 25,
   "id": "ef26b117-0d4e-4f85-841b-1e8675aac7f7",
   "metadata": {},
   "outputs": [],
   "source": [
    "#xi = [0.01, 0.9]"
   ]
  },
  {
   "cell_type": "markdown",
   "id": "8af8327e-2455-4d5a-ad76-2602304ecd2d",
   "metadata": {},
   "source": [
    "## Function experiments"
   ]
  },
  {
   "cell_type": "code",
   "execution_count": 13,
   "id": "4bc476a1-16cb-492b-9ca7-3876b398f85e",
   "metadata": {},
   "outputs": [],
   "source": [
    "#x is a monetary loss  \n",
    "def qstar(x, y, p): \n",
    "    #q = range(0, minimize(-x)) - don't know what to define q as\n",
    "    if x = 0.01: \n",
    "            q = x[0]\n",
    "    else x = 0.9:\n",
    "        \n",
    "    q = [0, x]\n",
    "    pi = p*q\n",
    "    V = p*(y-x+q-pi)**(1+theta)/(1+theta) + (1-p)*(y-pi)**(1+theta)/(1+theta)\n",
    "    result = minimize(-V) #maximize should be implemented in the function\n",
    "    return result"
   ]
  },
  {
   "cell_type": "code",
   "execution_count": 9,
   "id": "1323de73-2b8f-4116-99a9-6de2d2d3325a",
   "metadata": {},
   "outputs": [],
   "source": [
    "x = [0.01, 0.9]"
   ]
  },
  {
   "cell_type": "code",
   "execution_count": 14,
   "id": "eecaf033-1b5e-49c8-8854-c33924cd0ead",
   "metadata": {},
   "outputs": [
    {
     "ename": "TypeError",
     "evalue": "can't multiply sequence by non-int of type 'float'",
     "output_type": "error",
     "traceback": [
      "\u001b[1;31m---------------------------------------------------------------------------\u001b[0m",
      "\u001b[1;31mTypeError\u001b[0m                                 Traceback (most recent call last)",
      "\u001b[1;32m~\\AppData\\Local\\Temp/ipykernel_15368/1442335135.py\u001b[0m in \u001b[0;36m<module>\u001b[1;34m\u001b[0m\n\u001b[1;32m----> 1\u001b[1;33m \u001b[0mprint\u001b[0m\u001b[1;33m(\u001b[0m\u001b[0mqstar\u001b[0m\u001b[1;33m(\u001b[0m\u001b[0mx\u001b[0m\u001b[1;33m[\u001b[0m\u001b[1;36m0\u001b[0m\u001b[1;33m]\u001b[0m\u001b[1;33m,\u001b[0m \u001b[0my\u001b[0m\u001b[1;33m,\u001b[0m \u001b[0mp\u001b[0m\u001b[1;33m)\u001b[0m\u001b[1;33m)\u001b[0m\u001b[1;33m\u001b[0m\u001b[1;33m\u001b[0m\u001b[0m\n\u001b[0m",
      "\u001b[1;32m~\\AppData\\Local\\Temp/ipykernel_15368/3301406287.py\u001b[0m in \u001b[0;36mqstar\u001b[1;34m(x, y, p)\u001b[0m\n\u001b[0;32m      3\u001b[0m     \u001b[1;31m#q = range(0, minimize(-x)) - don't know what to define q as\u001b[0m\u001b[1;33m\u001b[0m\u001b[1;33m\u001b[0m\u001b[0m\n\u001b[0;32m      4\u001b[0m     \u001b[0mq\u001b[0m \u001b[1;33m=\u001b[0m \u001b[1;33m[\u001b[0m\u001b[1;36m0\u001b[0m\u001b[1;33m,\u001b[0m \u001b[0mx\u001b[0m\u001b[1;33m]\u001b[0m\u001b[1;33m\u001b[0m\u001b[1;33m\u001b[0m\u001b[0m\n\u001b[1;32m----> 5\u001b[1;33m     \u001b[0mpi\u001b[0m \u001b[1;33m=\u001b[0m \u001b[0mp\u001b[0m\u001b[1;33m*\u001b[0m\u001b[0mq\u001b[0m\u001b[1;33m\u001b[0m\u001b[1;33m\u001b[0m\u001b[0m\n\u001b[0m\u001b[0;32m      6\u001b[0m     \u001b[0mV\u001b[0m \u001b[1;33m=\u001b[0m \u001b[0mp\u001b[0m\u001b[1;33m*\u001b[0m\u001b[1;33m(\u001b[0m\u001b[0my\u001b[0m\u001b[1;33m-\u001b[0m\u001b[0mx\u001b[0m\u001b[1;33m+\u001b[0m\u001b[0mq\u001b[0m\u001b[1;33m-\u001b[0m\u001b[0mpi\u001b[0m\u001b[1;33m)\u001b[0m\u001b[1;33m**\u001b[0m\u001b[1;33m(\u001b[0m\u001b[1;36m1\u001b[0m\u001b[1;33m+\u001b[0m\u001b[0mtheta\u001b[0m\u001b[1;33m)\u001b[0m\u001b[1;33m/\u001b[0m\u001b[1;33m(\u001b[0m\u001b[1;36m1\u001b[0m\u001b[1;33m+\u001b[0m\u001b[0mtheta\u001b[0m\u001b[1;33m)\u001b[0m \u001b[1;33m+\u001b[0m \u001b[1;33m(\u001b[0m\u001b[1;36m1\u001b[0m\u001b[1;33m-\u001b[0m\u001b[0mp\u001b[0m\u001b[1;33m)\u001b[0m\u001b[1;33m*\u001b[0m\u001b[1;33m(\u001b[0m\u001b[0my\u001b[0m\u001b[1;33m-\u001b[0m\u001b[0mpi\u001b[0m\u001b[1;33m)\u001b[0m\u001b[1;33m**\u001b[0m\u001b[1;33m(\u001b[0m\u001b[1;36m1\u001b[0m\u001b[1;33m+\u001b[0m\u001b[0mtheta\u001b[0m\u001b[1;33m)\u001b[0m\u001b[1;33m/\u001b[0m\u001b[1;33m(\u001b[0m\u001b[1;36m1\u001b[0m\u001b[1;33m+\u001b[0m\u001b[0mtheta\u001b[0m\u001b[1;33m)\u001b[0m\u001b[1;33m\u001b[0m\u001b[1;33m\u001b[0m\u001b[0m\n\u001b[0;32m      7\u001b[0m     \u001b[0mresult\u001b[0m \u001b[1;33m=\u001b[0m \u001b[0mminimize\u001b[0m\u001b[1;33m(\u001b[0m\u001b[1;33m-\u001b[0m\u001b[0mV\u001b[0m\u001b[1;33m)\u001b[0m \u001b[1;31m#maximize should be implemented in the function\u001b[0m\u001b[1;33m\u001b[0m\u001b[1;33m\u001b[0m\u001b[0m\n",
      "\u001b[1;31mTypeError\u001b[0m: can't multiply sequence by non-int of type 'float'"
     ]
    }
   ],
   "source": [
    "print(qstar(x[0], y, p))"
   ]
  },
  {
   "cell_type": "code",
   "execution_count": null,
   "id": "1d76343a-bb90-4364-9332-f5df3d466ba7",
   "metadata": {},
   "outputs": [],
   "source": []
  },
  {
   "cell_type": "code",
   "execution_count": 1,
   "id": "d05a569d-062b-40b6-81d7-56a9bf438f58",
   "metadata": {},
   "outputs": [],
   "source": [
    "#x = [0.01, 0.9]\n",
    "#print(qstar(x, y, p))"
   ]
  },
  {
   "cell_type": "code",
   "execution_count": null,
   "id": "6f9f99fb-b081-41fb-b469-124c2b88486d",
   "metadata": {},
   "outputs": [],
   "source": [
    "# a range for x to implement\n",
    "# c. fill numpy arrays using a nested loop\n",
    "for i in range(N): # 0,1,...,N-1\n",
    "        x0_values[i] = (i/(N-1))*x_max # in [0,x_max]\n",
    "        x1_values[i] = (j/(N-1))*x_max # in [0,x_max]\n",
    "        u_values[i,j] = u_func(x1_values[i,j],x2_values[i,j],alpha=0.25)"
   ]
  },
  {
   "cell_type": "markdown",
   "id": "83a564fd-73e5-4b84-b2fd-84d30a505ca9",
   "metadata": {},
   "source": [
    "## The working one - sort of"
   ]
  },
  {
   "cell_type": "code",
   "execution_count": 48,
   "id": "0a82a211-3559-4377-bf3d-63142dcae7b5",
   "metadata": {},
   "outputs": [],
   "source": [
    "def qstar(x, y, p): \n",
    "    xlist = [] #In doubt how to define x\n",
    "    for x in xlist: \n",
    "        q = range(0, len(x)) #or just len(x)\n",
    "    pi = p*q\n",
    "    V = p*(y-x+q-pi)**(1+theta)/1+theta + (1-p)*(y-pi)**(1+theta)/1+theta\n",
    "    result = minimize(-qstar(x, y, p)) #maximize should be implemented in the function\n",
    "    return result\n",
    "\n",
    "#result = minimize(-qstar(x, y, p)) #maximize should be implemented in the function\n",
    "\n",
    "#Need to define the range of q, x. \n",
    "\n",
    "#Define range for input\n",
    "#r_min, r_max = 0, x"
   ]
  },
  {
   "cell_type": "code",
   "execution_count": 49,
   "id": "8a36aeae-830d-4bb6-a5a1-51ea143817f0",
   "metadata": {},
   "outputs": [
    {
     "ename": "TypeError",
     "evalue": "qstar() missing 2 required keyword-only arguments: 'y' and 'p'",
     "output_type": "error",
     "traceback": [
      "\u001b[1;31m---------------------------------------------------------------------------\u001b[0m",
      "\u001b[1;31mTypeError\u001b[0m                                 Traceback (most recent call last)",
      "\u001b[1;32m~\\AppData\\Local\\Temp/ipykernel_17148/616019054.py\u001b[0m in \u001b[0;36m<module>\u001b[1;34m\u001b[0m\n\u001b[0;32m      1\u001b[0m \u001b[0mx\u001b[0m \u001b[1;33m=\u001b[0m \u001b[1;33m[\u001b[0m\u001b[1;36m0.01\u001b[0m\u001b[1;33m,\u001b[0m \u001b[1;36m0.9\u001b[0m\u001b[1;33m]\u001b[0m\u001b[1;33m\u001b[0m\u001b[1;33m\u001b[0m\u001b[0m\n\u001b[1;32m----> 2\u001b[1;33m \u001b[0mqstar\u001b[0m\u001b[1;33m(\u001b[0m\u001b[0mx\u001b[0m\u001b[1;33m,\u001b[0m \u001b[0my\u001b[0m\u001b[1;33m,\u001b[0m \u001b[0mp\u001b[0m\u001b[1;33m)\u001b[0m\u001b[1;33m\u001b[0m\u001b[1;33m\u001b[0m\u001b[0m\n\u001b[0m",
      "\u001b[1;31mTypeError\u001b[0m: qstar() missing 2 required keyword-only arguments: 'y' and 'p'"
     ]
    }
   ],
   "source": [
    "#x = [0.01, 0.9]\n",
    "#qstar(x, y, p)"
   ]
  },
  {
   "cell_type": "markdown",
   "id": "cfb7cd42-8a05-4521-ae87-a868f2c57d5a",
   "metadata": {},
   "source": [
    "## Plotting q*"
   ]
  },
  {
   "cell_type": "code",
   "execution_count": null,
   "id": "a133d55f-dcf8-47bf-8077-57d3d924711f",
   "metadata": {},
   "outputs": [],
   "source": []
  }
 ],
 "metadata": {
  "kernelspec": {
   "display_name": "Python 3 (ipykernel)",
   "language": "python",
   "name": "python3"
  },
  "language_info": {
   "codemirror_mode": {
    "name": "ipython",
    "version": 3
   },
   "file_extension": ".py",
   "mimetype": "text/x-python",
   "name": "python",
   "nbconvert_exporter": "python",
   "pygments_lexer": "ipython3",
   "version": "3.9.7"
  },
  "toc-autonumbering": false
 },
 "nbformat": 4,
 "nbformat_minor": 5
}
