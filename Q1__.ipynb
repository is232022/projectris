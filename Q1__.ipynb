{
 "cells": [
  {
   "cell_type": "markdown",
   "id": "877a3a9f-d5c1-4380-9b19-5186dceaa188",
   "metadata": {},
   "source": [
    "Packages"
   ]
  },
  {
   "cell_type": "code",
   "execution_count": 1,
   "id": "09f75c5c-f0be-4ffa-b515-b452dc86a432",
   "metadata": {},
   "outputs": [],
   "source": [
    "from scipy.optimize import minimize_scalar\n",
    "from scipy import optimize\n",
    "import numpy as np \n",
    "from types import SimpleNamespace # new? explained below\n",
    "import matplotlib.pyplot as plt\n",
    "plt.style.use('seaborn-whitegrid')"
   ]
  },
  {
   "cell_type": "code",
   "execution_count": 2,
   "id": "fffc819d-4761-4af3-8bbf-eaf6aa78f00e",
   "metadata": {},
   "outputs": [],
   "source": [
    "#N = 50 \n",
    "\n",
    "par = SimpleNamespace()\n",
    "par.theta = -2\n",
    "par.p = 0.2\n",
    "par.y = 1\n",
    "\n",
    "# 1. Initiliaze vectors of goods and container for utilities\n",
    "q_values = np.linspace(0,0.9,50)\n",
    "x_values = np.linspace(0.01,0.9,50)\n",
    "monetary_loss = np.empty((q_values.shape)) # empty vector with same shape as the vector of coverage and loss\n"
   ]
  },
  {
   "cell_type": "code",
   "execution_count": 3,
   "id": "6d4816bd-94d5-493d-b4d6-be76672b7610",
   "metadata": {},
   "outputs": [],
   "source": [
    "#Utility function\n",
    "def u(z, par):\n",
    "    print(par)\n",
    "    \"\"\"Utility of assets\"\"\"\n",
    "    return z**(1+par.theta)/(1+par.theta)"
   ]
  },
  {
   "cell_type": "code",
   "execution_count": 4,
   "id": "a188c3bf-6557-413d-a485-47bff6c00a4f",
   "metadata": {},
   "outputs": [],
   "source": [
    "#Premium policy\n",
    "def pi(q, par): \n",
    "    print(par)\n",
    "    \"\"\"Premium for better coverage\"\"\"\n",
    "    return par.p*q"
   ]
  },
  {
   "cell_type": "code",
   "execution_count": 5,
   "id": "86b6a7aa-8eb6-4140-b670-481c0aa5aab4",
   "metadata": {},
   "outputs": [],
   "source": [
    "#Expected utility if not insured\n",
    "def V0(x, par): \n",
    "    print(par)\n",
    "    \"\"\"Expected utility of a non-insured agent\"\"\"\n",
    "    return par.p*u(par.y-x, par) + (1-par.p)*u(par.y, par)"
   ]
  },
  {
   "cell_type": "code",
   "execution_count": 6,
   "id": "6f45aaa2-3e1d-4f97-ad57-90ae71f49a02",
   "metadata": {},
   "outputs": [],
   "source": [
    "#Expected utility function if insured\n",
    "def V(q, x, par): \n",
    "    print(par)\n",
    "    \"\"\"Expected utility of an insured agent\"\"\"\n",
    "    u_loss = u(par.y-x+q-pi(q, par), par)\n",
    "    u_win = u(par.y-pi(q, par), par)\n",
    "    return par.p*u_loss+(1-par.p)*u_win"
   ]
  },
  {
   "cell_type": "code",
   "execution_count": 7,
   "id": "82373932-44ee-4015-98c5-3c7030dd3722",
   "metadata": {},
   "outputs": [],
   "source": [
    "def qstar(q, x, par): \n",
    "    obj = lambda x: -V(q, x, par)\n",
    "    #x should be from 0.0-0.9\n",
    "    result = optimize.minimize_scalar(obj,bounds=(0,1),method='bounded')\n",
    "    q = result.x\n",
    "    return q #want to return a float not an array\n",
    "\n",
    "#qs = qstar(np.round(q_values,2), np.round(x_values,2), par)\n",
    "\n",
    "#print(f'qstar = {np.round(q_values,2)}') #<-- doing this works\n",
    "#print(f'qstar = {np.round(qstar(q_values,x_values,par),2)}') \n",
    "\n",
    "#print(f'qstar({np.round(x_values,2)}, {np.round(q_values,2)}, {par}')\n",
    "\n",
    "#print(f'qstar = {q_values:.2f}') <-- This does not work before after running the whole notebook, not printing "
   ]
  },
  {
   "cell_type": "code",
   "execution_count": 10,
   "id": "148d88c0-14c8-4ee4-8d0e-78e22b32a784",
   "metadata": {},
   "outputs": [],
   "source": [
    "#coverage = qstar(q_values,x_values,par)\n",
    "#print(coverage)"
   ]
  },
  {
   "cell_type": "markdown",
   "id": "c8d0ad5a-4082-4412-8fa7-59264376b620",
   "metadata": {},
   "source": [
    "* Cannot print the result for one qstar"
   ]
  },
  {
   "cell_type": "code",
   "execution_count": null,
   "id": "3e32613d-a1bb-4fa2-a244-0c112e01e641",
   "metadata": {},
   "outputs": [],
   "source": [
    "#qs = qstar(q_values, x_values, par) #<-- This does not work before after running the whole notebook, not printing \n",
    "#print(qs) # qstar = 5.9608609865491405e-06"
   ]
  },
  {
   "cell_type": "code",
   "execution_count": null,
   "id": "14d798e8-1a93-4d3e-a1c6-c7ddd32b13d6",
   "metadata": {},
   "outputs": [],
   "source": [
    "# 2. Calculate every q* for all x's by looping\n",
    "for i, (q_values, x_values) in enumerate(zip(q_values, x_values)):\n",
    "    # i. Calculate insurance coverage for every loss\n",
    "    insurance_coverage = qstar(q_values, x_values, par)\n",
    "    \n",
    "    # ii. Append monetary loss to empty vector\n",
    "    monetary_loss[i] = insurance_coverage\n",
    "    \n",
    "    # iii. Print result\n",
    "    print(f'qstar({np.round(q_values,2)}, {np.round(x_values,2)}, par) = {np.round(monetary_loss[i],2)}, where par = {par}')"
   ]
  },
  {
   "cell_type": "markdown",
   "id": "c09c4570-d53b-495c-b329-c1dff7033d78",
   "metadata": {},
   "source": [
    "## Plotting the x's and q*"
   ]
  },
  {
   "cell_type": "code",
   "execution_count": 18,
   "id": "ade874b9-4c67-4510-b1e4-0a060e82bd73",
   "metadata": {},
   "outputs": [
    {
     "data": {
      "image/png": "[encoded data removed]",
      "text/plain": [
       "<Figure size 432x288 with 1 Axes>"
      ]
     },
     "metadata": {},
     "output_type": "display_data"
    }
   ],
   "source": [
    "fig = plt.figure()\n",
    "ax = fig.add_subplot(1,1,1)\n",
    "\n",
    "ax.plot(q_values,x_values,ls='--',lw=2,color='black',label='$qstar(q,x,par)$')\n",
    "#ax.plot(q_values, np.round(monetary_loss,2),ls='',marker='s',label='best')\n",
    "\n",
    "ax.set_xlabel('x')\n",
    "ax.set_ylabel('q')\n",
    "ax.legend(loc='lower center',frameon=True);"
   ]
  },
  {
   "cell_type": "code",
   "execution_count": null,
   "id": "4cbe98e0-2c7b-4910-8cce-6e22e7a6ee38",
   "metadata": {},
   "outputs": [],
   "source": []
  }
 ],
 "metadata": {
  "kernelspec": {
   "display_name": "Python 3 (ipykernel)",
   "language": "python",
   "name": "python3"
  },
  "language_info": {
   "codemirror_mode": {
    "name": "ipython",
    "version": 3
   },
   "file_extension": ".py",
   "mimetype": "text/x-python",
   "name": "python",
   "nbconvert_exporter": "python",
   "pygments_lexer": "ipython3",
   "version": "3.9.7"
  }
 },
 "nbformat": 4,
 "nbformat_minor": 5
}
