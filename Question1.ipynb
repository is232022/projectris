{
 "cells": [
  {
   "cell_type": "markdown",
   "id": "13b7108b-dcae-4337-90c6-72dafccee0c0",
   "metadata": {},
   "source": [
    "# Questions"
   ]
  },
  {
   "cell_type": "markdown",
   "id": "05d3c9a6-f519-41bb-9e89-a7e10b424b25",
   "metadata": {},
   "source": [
    "Packages:"
   ]
  },
  {
   "cell_type": "code",
   "execution_count": 99,
   "id": "f4e011dd-6285-4d50-994f-b2a8a2974b72",
   "metadata": {},
   "outputs": [],
   "source": [
    "from scipy.optimize import minimize\n",
    "import numpy as np \n",
    "import math\n",
    "from scipy.optimize import minimize\n",
    "from scipy import optimize\n",
    "\n",
    "from types import SimpleNamespace # new? explained below\n",
    "from scipy import optimize\n",
    "import matplotlib.pyplot as plt\n",
    "plt.style.use('seaborn-whitegrid')\n",
    " "
   ]
  },
  {
   "cell_type": "markdown",
   "id": "c851bb71-8cc1-4c98-a4dc-ca260e5f37b7",
   "metadata": {},
   "source": [
    "## 1)"
   ]
  },
  {
   "cell_type": "markdown",
   "id": "bed60bcf-7bf9-4a05-94bf-2394a19df477",
   "metadata": {},
   "source": [
    "Defining the function taking the insured agent into account:"
   ]
  },
  {
   "cell_type": "code",
   "execution_count": 100,
   "id": "8b14ecd3-966d-4d1b-b3a7-dd3aff67adee",
   "metadata": {},
   "outputs": [],
   "source": [
    "#x = np.arange(0.01, 0.9, dtype=float)\n",
    "#q = np.arange(0, x, dtype=float) \n",
    "\n",
    "def qfunc(x,y=1,p=0.2): \n",
    "    x = np.arange(0.01, 0.9, dtype=float) #doubting if x and q should be defined inside the function\n",
    "    q = np.arange(0, x, dtype=float) \n",
    "    theta=-2\n",
    "    #x = range(0.01, 0.9)\n",
    "    #q = 0, x\n",
    "    pi = p*q\n",
    "    v = p*((y-x+q-(p*q)))**(1+theta)/(1+theta)+(1-p)*(y-(p*q))**(1+theta)/(1+theta)  \n",
    "    return v"
   ]
  },
  {
   "cell_type": "markdown",
   "id": "14a33374-f587-43f5-b0a6-81b2631e404e",
   "metadata": {},
   "source": [
    "Creating a lambda function taking as input the created q_func: \n",
    "#why creating lambda?"
   ]
  },
  {
   "cell_type": "code",
   "execution_count": 101,
   "id": "eb9589ed-991b-4d15-98ef-70a229a1bf20",
   "metadata": {},
   "outputs": [],
   "source": [
    "x_guess = [0]\n",
    "qstar = lambda q: -qfunc(q[0]) "
   ]
  },
  {
   "cell_type": "markdown",
   "id": "a7eb3580-873f-4118-b4d6-f92063e14cbe",
   "metadata": {},
   "source": [
    "Maximizing q: "
   ]
  },
  {
   "cell_type": "code",
   "execution_count": 102,
   "id": "68ed7846-0914-4567-84c4-683ec0de3d98",
   "metadata": {},
   "outputs": [
    {
     "name": "stdout",
     "output_type": "stream",
     "text": [
      "best is -1.00202020 at x = 0.00000000\n"
     ]
    }
   ],
   "source": [
    "res = optimize.minimize(qstar,x_guess,method='Nelder-Mead') \n",
    "x = res.x[0]\n",
    "f = -res.fun\n",
    "print(f'best is {f:.8f} at x = {x:.8f}')\n",
    "#maximixing the function, 0 is the initial guess - since q∈[0,x]"
   ]
  },
  {
   "cell_type": "code",
   "execution_count": null,
   "id": "b88e4736-55c2-4475-a748-008fef90d0d3",
   "metadata": {},
   "outputs": [],
   "source": [
    "#another version\n",
    "#res = minimize(lambda q: -qfunc(q), x_guess,method='Nelder-Mead') "
   ]
  },
  {
   "cell_type": "code",
   "execution_count": 78,
   "id": "4bfc6c4e-75ee-4e15-99c1-4ad72ec26d54",
   "metadata": {},
   "outputs": [],
   "source": [
    "#res = optimize.minimize_scalar(qstar,bracket=(-10,10),method='brent')"
   ]
  },
  {
   "cell_type": "code",
   "execution_count": 80,
   "id": "bf1b9645-0cd2-4fa8-8a46-c2663d422835",
   "metadata": {},
   "outputs": [],
   "source": [
    "#print('Maximum {} attained at {}'.format(-res.fun, res.x))\n",
    "# https://stackoverflow.com/questions/52974075/maximize-objective-function-using-scipy-optimize\n",
    "#Reminding of PS1 - A4"
   ]
  },
  {
   "cell_type": "markdown",
   "id": "ab19c4e1-97c7-44ca-85c8-1dd3ed706748",
   "metadata": {},
   "source": [
    "## Plotting q*"
   ]
  },
  {
   "cell_type": "code",
   "execution_count": 105,
   "id": "2f5fd005-00e3-4c58-af3b-b93804f20488",
   "metadata": {},
   "outputs": [],
   "source": [
    "#x_best = -864691128455135.62500000\n",
    "#q_best = -0.80000000\n",
    "N = 100\n",
    "x_vec = np.linspace(-10,10,N)\n",
    "q_vec = np.empty(N)\n",
    "x_best = 0.0000000\n",
    "q_best = -1.00202020"
   ]
  },
  {
   "cell_type": "code",
   "execution_count": 110,
   "id": "fc56981d-5bb8-4ee5-9ef5-1c466b7d7324",
   "metadata": {},
   "outputs": [
    {
     "data": {
      "image/png": "[encoded data removed]",
      "text/plain": [
       "<Figure size 720x288 with 1 Axes>"
      ]
     },
     "metadata": {},
     "output_type": "display_data"
    }
   ],
   "source": [
    "plt.style.use(\"seaborn-whitegrid\")\n",
    "\n",
    "# a. create the figure\n",
    "fig = plt.figure(figsize=(10,4))# figsize is in inches...\n",
    "\n",
    "# b. left plot\n",
    "ax_left = fig.add_subplot(1,2,1)\n",
    "\n",
    "ax_left.plot(x_vec, q_vec)\n",
    "ax_left.scatter(x_best, q_best) # Add the solution as a dot\n",
    "\n",
    "ax_left.set_title('value of choice, $u(x_1,x_2)$')\n",
    "ax_left.set_xlabel('$x_1$')\n",
    "ax_left.set_ylabel('$u(x_1,(I-p_1 x_1)/p_2)$')\n",
    "ax_left.grid(True)"
   ]
  },
  {
   "cell_type": "code",
   "execution_count": 109,
   "id": "3df86a38-d59d-45c6-a964-fc589450eb63",
   "metadata": {},
   "outputs": [
    {
     "data": {
      "image/png": "[encoded data removed]",
      "text/plain": [
       "<Figure size 432x288 with 1 Axes>"
      ]
     },
     "metadata": {},
     "output_type": "display_data"
    }
   ],
   "source": [
    "# e. figure\n",
    "import matplotlib.pyplot as plt\n",
    "fig = plt.figure() # dpi = dots-per-inch (resolution)\n",
    "ax = fig.add_subplot(1,1,1)\n",
    "\n",
    "ax.plot(x_best,q_best,ls='',marker='o',\n",
    "        markersize=10,markerfacecolor='none',\n",
    "        markeredgecolor='red',label='scipy.optimize')\n",
    "\n",
    "\n",
    "ax.set_xlabel('$x$')\n",
    "ax.set_ylabel('$f$')\n",
    "ax.grid(True)\n",
    "ax.legend(loc='upper center');\n"
   ]
  },
  {
   "cell_type": "markdown",
   "id": "f493b376-5303-4a35-b5fb-0d8c8f297ec8",
   "metadata": {},
   "source": [
    "# 2)"
   ]
  },
  {
   "cell_type": "code",
   "execution_count": null,
   "id": "ead9ca5c-e321-46b6-a178-08df251d13fc",
   "metadata": {},
   "outputs": [],
   "source": [
    "pi = p*q #premium policy\n",
    "x2 = 0.6 #loss\n",
    "#q2 = range(0.01, 0.6) #range of q2 is [0.01, x]"
   ]
  },
  {
   "cell_type": "markdown",
   "id": "a02cc041-c266-4dda-a359-141d21740876",
   "metadata": {},
   "source": [
    "Finding pi_tilde such that V(q,pi_tilde) = v0 at each point in the grid"
   ]
  },
  {
   "cell_type": "code",
   "execution_count": null,
   "id": "1d8caae3-f854-4a39-a97a-767f3fa67fd9",
   "metadata": {},
   "outputs": [],
   "source": [
    "v0 = p*(y-x)**(1+theta)/1+theta+(1-p)*y"
   ]
  },
  {
   "cell_type": "code",
   "execution_count": null,
   "id": "6bc1bb2a-4fc0-4553-a5eb-73ef52cdf9fa",
   "metadata": {},
   "outputs": [],
   "source": [
    "for q2 in [0.01, x2]: \n",
    "    pi = p*q"
   ]
  },
  {
   "cell_type": "code",
   "execution_count": null,
   "id": "0d355be3-0a4b-451d-8eae-6b849d294536",
   "metadata": {},
   "outputs": [],
   "source": [
    "def equilibrium(x, y, p): \n",
    "    "
   ]
  },
  {
   "cell_type": "code",
   "execution_count": null,
   "id": "bb700a69-98be-413f-aec6-a4f1dd3ce52f",
   "metadata": {},
   "outputs": [],
   "source": []
  },
  {
   "cell_type": "code",
   "execution_count": null,
   "id": "c9fa060b-199d-41c1-8225-4890cdc6df1e",
   "metadata": {},
   "outputs": [],
   "source": [
    "p = 1\n",
    "for w in [0.5,1,1.5]:\n",
    "    y,l,Pi = firm(p,w,par)\n",
    "    print(f'w = {w:.2f} -> y = {y:.2f}, l = {l:.2f}, Pi = {Pi:.2f}')"
   ]
  }
 ],
 "metadata": {
  "kernelspec": {
   "display_name": "Python 3 (ipykernel)",
   "language": "python",
   "name": "python3"
  },
  "language_info": {
   "codemirror_mode": {
    "name": "ipython",
    "version": 3
   },
   "file_extension": ".py",
   "mimetype": "text/x-python",
   "name": "python",
   "nbconvert_exporter": "python",
   "pygments_lexer": "ipython3",
   "version": "3.9.7"
  }
 },
 "nbformat": 4,
 "nbformat_minor": 5
}
